{
 "cells": [
  {
   "cell_type": "code",
   "execution_count": 1,
   "id": "83cbf27c",
   "metadata": {},
   "outputs": [],
   "source": [
    "# import libriaries\n",
    "import sqlite3"
   ]
  },
  {
   "cell_type": "code",
   "execution_count": 2,
   "id": "5a932065",
   "metadata": {},
   "outputs": [],
   "source": [
    "connection = sqlite3.connect(\"chinook.db\")\n",
    "cursor = connection.cursor()"
   ]
  },
  {
   "cell_type": "code",
   "execution_count": 30,
   "id": "5bf6c148",
   "metadata": {},
   "outputs": [
    {
     "data": {
      "text/plain": [
       "[(6606,\n",
       "  1,\n",
       "  'For Those About To Rock (We Salute You)',\n",
       "  'Angus Young, Malcolm Young, Brian Johnson'),\n",
       " (1477,\n",
       "  3,\n",
       "  'Fast As a Shark',\n",
       "  'F. Baltes, S. Kaufman, U. Dirkscneider & W. Hoffman'),\n",
       " (426, 2819, 'Battlestar Galactica: The Story So Far', None),\n",
       " (100, 3403, 'Intoitus: Adorate Deum', 'Anonymous'),\n",
       " (39, 215, 'Sozinho', 'Peninha'),\n",
       " (25, 3479, 'Prometheus Overture, Op. 43', 'Ludwig van Beethoven'),\n",
       " (25,\n",
       "  3430,\n",
       "  'Toccata and Fugue in D Minor, BWV 565: I. Toccata',\n",
       "  'Johann Sebastian Bach'),\n",
       " (15, 52, 'Man In The Box', 'Jerry Cantrell, Layne Staley'),\n",
       " (1, 3402, 'Band Members Discuss Tracks from \"Revelations\"', None),\n",
       " (1, 597, \"Now's The Time\", 'Miles Davis')]"
      ]
     },
     "execution_count": 30,
     "metadata": {},
     "output_type": "execute_result"
    }
   ],
   "source": [
    "# 1. Which tracks appeared in the most playlists? How many playlist did they appear in?Which track generated the most revenue?\n",
    "cursor.execute ('''WITH first_query AS (\n",
    "                SELECT TrackId, COUNT(*) AS Quantity, PlaylistId\n",
    "                FROM playlist_track\n",
    "                GROUP BY 3\n",
    "                ORDER BY 2 DESC\n",
    "                ), \n",
    "                second_query AS (\n",
    "                SELECT SUM (Quantity) AS 'Total Number', TrackId\n",
    "                FROM first_query\n",
    "                GROUP BY 2\n",
    "                ORDER BY 1 DESC\n",
    "                ), \n",
    "                third_query AS (\n",
    "                SELECT *\n",
    "                FROM second_query\n",
    "                LEFT JOIN tracks\n",
    "                    ON second_query.TrackId = tracks.TrackId\n",
    "                )\n",
    "                SELECT \"Total Number\", \"TrackId\", \"Name\", \"Composer\"\n",
    "                FROM third_query;''').fetchall()"
   ]
  },
  {
   "cell_type": "code",
   "execution_count": 7,
   "id": "31934015",
   "metadata": {},
   "outputs": [
    {
     "data": {
      "text/plain": [
       "(2832, 'The Woman King', 3.98)"
      ]
     },
     "execution_count": 7,
     "metadata": {},
     "output_type": "execute_result"
    }
   ],
   "source": [
    "# 2. Which track generated the most revenue?\n",
    "cursor.execute ('''WITH first_query AS (\n",
    "                SELECT SUM(UnitPrice) AS \"Revenue by Track\", TrackId\n",
    "                FROM invoice_items\n",
    "                GROUP BY 2\n",
    "                ORDER BY 1 DESC\n",
    "                LIMIT 10\n",
    "                ), \n",
    "                second_query AS (\n",
    "                SELECT *\n",
    "                FROM first_query\n",
    "                LEFT JOIN tracks\n",
    "                    ON first_query.TrackId = tracks.TrackId\n",
    "                )\n",
    "                SELECT \"TrackId\", \"Name\", \"Revenue by Track\"\n",
    "                FROM second_query;''').fetchone()"
   ]
  },
  {
   "cell_type": "code",
   "execution_count": 8,
   "id": "b5a37c19",
   "metadata": {},
   "outputs": [
    {
     "data": {
      "text/plain": [
       "(253, 'Battlestar Galactica (Classic), Season 1', 158, 35.81999999999999)"
      ]
     },
     "execution_count": 8,
     "metadata": {},
     "output_type": "execute_result"
    }
   ],
   "source": [
    "# 3. Which album generated the most revenue?\n",
    "cursor.execute ('''WITH first_query AS (\n",
    "                SELECT *\n",
    "                FROM invoice_items\n",
    "                LEFT JOIN tracks\n",
    "                    ON invoice_items.TrackId = tracks.TrackId\n",
    "                ), \n",
    "                second_query AS (\n",
    "                SELECT SUM (UnitPrice) AS \"Revenue by Album\", AlbumId\n",
    "                FROM first_query\n",
    "                GROUP BY 2\n",
    "                ORDER BY 1 DESC\n",
    "                LIMIT 10\n",
    "                ), \n",
    "                third_query AS (\n",
    "                SELECT *\n",
    "                FROM second_query\n",
    "                LEFT JOIN albums\n",
    "                    ON second_query.AlbumId= albums.AlbumId\n",
    "                )\n",
    "                SELECT \"AlbumId\", \"Title\", \"ArtistId\", \"Revenue by Album\"\n",
    "                FROM third_query;''').fetchone()"
   ]
  },
  {
   "cell_type": "code",
   "execution_count": 9,
   "id": "6701a4c3",
   "metadata": {},
   "outputs": [
    {
     "data": {
      "text/plain": [
       "(1, 'Rock', 826.65)"
      ]
     },
     "execution_count": 9,
     "metadata": {},
     "output_type": "execute_result"
    }
   ],
   "source": [
    "# 4. Which genre generated the most revenue?\n",
    "cursor.execute ('''WITH first_query AS (\n",
    "                SELECT *\n",
    "                FROM invoice_items\n",
    "                LEFT JOIN tracks\n",
    "                    ON invoice_items.TrackId = tracks.TrackId\n",
    "                ), \n",
    "                second_query AS (\n",
    "                SELECT ROUND (SUM (UnitPrice),2) AS \"Revenue by Genre\", GenreId\n",
    "                FROM first_query\n",
    "                GROUP BY 2\n",
    "                ORDER BY 1 DESC\n",
    "                LIMIT 10\n",
    "                ), \n",
    "                third_query AS (\n",
    "                SELECT *\n",
    "                FROM second_query\n",
    "                LEFT JOIN genres\n",
    "                    ON second_query.GenreId = genres.GenreId\n",
    "                )\n",
    "                SELECT GenreId, Name, \"Revenue by Genre\"\n",
    "                FROM third_query;''').fetchone()"
   ]
  },
  {
   "cell_type": "code",
   "execution_count": 10,
   "id": "f4aa0023",
   "metadata": {},
   "outputs": [
    {
     "data": {
      "text/plain": [
       "[(523.0, 'USA'),\n",
       " (304.0, 'Canada'),\n",
       " (195.0, 'France'),\n",
       " (190.0, 'Brazil'),\n",
       " (156.0, 'Germany')]"
      ]
     },
     "execution_count": 10,
     "metadata": {},
     "output_type": "execute_result"
    }
   ],
   "source": [
    "# 5. Which countries have the highest sales revenue?\n",
    "cursor.execute ('''SELECT ROUND (SUM (Total),0) AS \"Sales Revenue by Country\", BillingCountry\n",
    "                FROM invoices\n",
    "                GROUP BY 2\n",
    "                ORDER BY 1 DESC\n",
    "                LIMIT 5;''').fetchall()"
   ]
  },
  {
   "cell_type": "code",
   "execution_count": 28,
   "id": "b321d1d0",
   "metadata": {},
   "outputs": [
    {
     "data": {
      "text/plain": [
       "[('USA', 523.0, 22.400000000000002),\n",
       " ('Canada', 304.0, 13.0),\n",
       " ('France', 195.0, 8.4),\n",
       " ('Brazil', 190.0, 8.1),\n",
       " ('Germany', 156.0, 6.7),\n",
       " ('United Kingdom', 113.0, 4.8),\n",
       " ('Czech Republic', 90.0, 3.9),\n",
       " ('Portugal', 77.0, 3.3000000000000003),\n",
       " ('India', 75.0, 3.2),\n",
       " ('Ireland', 46.0, 2.0),\n",
       " ('Hungary', 46.0, 2.0),\n",
       " ('Chile', 47.0, 2.0),\n",
       " ('Netherlands', 41.0, 1.7999999999999998),\n",
       " ('Finland', 42.0, 1.7999999999999998),\n",
       " ('Austria', 43.0, 1.7999999999999998),\n",
       " ('Sweden', 39.0, 1.7000000000000002),\n",
       " ('Norway', 40.0, 1.7000000000000002),\n",
       " ('Spain', 38.0, 1.6),\n",
       " ('Poland', 38.0, 1.6),\n",
       " ('Italy', 38.0, 1.6),\n",
       " ('Denmark', 38.0, 1.6),\n",
       " ('Belgium', 38.0, 1.6),\n",
       " ('Australia', 38.0, 1.6),\n",
       " ('Argentina', 38.0, 1.6)]"
      ]
     },
     "execution_count": 28,
     "metadata": {},
     "output_type": "execute_result"
    }
   ],
   "source": [
    "# 6. What percent of total revenue does each country make up?\n",
    "cursor.execute ('''WITH first_query AS (\n",
    "                SELECT ROUND (SUM (Total),0) AS \"Sales Revenue by Country\", BillingCountry\n",
    "                FROM invoices\n",
    "                GROUP BY 2\n",
    "                ORDER BY 1 DESC\n",
    "                )\n",
    "                SELECT BillingCountry, \"Sales Revenue by Country\", \n",
    "                       (ROUND(SUM(\"Sales Revenue by Country\") / (SELECT SUM(\"Sales Revenue by Country\") FROM first_query), 3))*100 AS Percentage\n",
    "                FROM first_query\n",
    "                GROUP BY BillingCountry\n",
    "                ORDER BY percentage DESC;''').fetchall()"
   ]
  },
  {
   "cell_type": "code",
   "execution_count": 29,
   "id": "01cd900d",
   "metadata": {},
   "outputs": [
    {
     "data": {
      "text/plain": [
       "[(21, 3, 'Peacock', 'Jane', 'Sales Support Agent'),\n",
       " (20, 4, 'Park', 'Margaret', 'Sales Support Agent'),\n",
       " (18, 5, 'Johnson', 'Steve', 'Sales Support Agent')]"
      ]
     },
     "execution_count": 29,
     "metadata": {},
     "output_type": "execute_result"
    }
   ],
   "source": [
    "# 7. How many customers did each employee support?\n",
    "cursor.execute ('''WITH first_query AS(SELECT *\n",
    "                FROM customers\n",
    "                LEFT JOIN employees\n",
    "                    ON customers.SupportRepId = employees.EmployeeId\n",
    "                )\n",
    "                SELECT COUNT (*) AS \"Total Number\", EmployeeId, \"LastName:1\" AS \"Last Name\", \"FirstName:1\" AS \"First Name\", Title\n",
    "                FROM first_query\n",
    "                GROUP BY EmployeeId;''').fetchall()"
   ]
  },
  {
   "cell_type": "code",
   "execution_count": 37,
   "id": "4765514f",
   "metadata": {},
   "outputs": [
    {
     "data": {
      "text/plain": [
       "[(3, 'Peacock', 'Jane', 119.86),\n",
       " (4, 'Park', 'Margaret', 110.72),\n",
       " (5, 'Johnson', 'Steve', 102.84)]"
      ]
     },
     "execution_count": 37,
     "metadata": {},
     "output_type": "execute_result"
    }
   ],
   "source": [
    "# 8. What is the average revenue for each sale?\n",
    "cursor.execute ('''WITH first_query AS (\n",
    "                SELECT CustomerId, ROUND(AVG (Total), 2) AS \"Average Sale\"\n",
    "                FROM invoices\n",
    "                GROUP BY CustomerId\n",
    "                ORDER BY 2 DESC\n",
    "                ), \n",
    "                second_query AS(\n",
    "                SELECT *\n",
    "                FROM first_query\n",
    "                LEFT JOIN customers\n",
    "                    ON first_query.CustomerId = customers.CustomerId\n",
    "                ), \n",
    "                third_query AS (\n",
    "                SELECT ROUND(SUM (\"Average Sale\"), 2) AS \"Average Revenue per Sale\", SupportRepId\n",
    "                FROM second_query\n",
    "                GROUP BY SupportRepId\n",
    "                )\n",
    "                SELECT EmployeeId, LastName, FirstName, \"Average Revenue per Sale\"\n",
    "                FROM third_query\n",
    "                LEFT JOIN employees\n",
    "                    ON third_query.SupportRepId = employees.EmployeeId\n",
    "                ORDER BY \"Average Sale by Employee\" DESC;''').fetchall()"
   ]
  },
  {
   "cell_type": "code",
   "execution_count": 38,
   "id": "6dd03cd6",
   "metadata": {},
   "outputs": [
    {
     "data": {
      "text/plain": [
       "[(3, 'Peacock', 'Jane', 841.0),\n",
       " (4, 'Park', 'Margaret', 783.0),\n",
       " (5, 'Johnson', 'Steve', 727.0)]"
      ]
     },
     "execution_count": 38,
     "metadata": {},
     "output_type": "execute_result"
    }
   ],
   "source": [
    "# 9. What is their total sale?\n",
    "cursor.execute ('''WITH first_query AS (\n",
    "                SELECT CustomerId, ROUND(SUM (Total),0) AS \"Total Revenue\"\n",
    "                FROM invoices\n",
    "                GROUP BY CustomerId\n",
    "                ORDER BY 2 DESC\n",
    "                ), \n",
    "                second_query AS(\n",
    "                SELECT *\n",
    "                FROM first_query\n",
    "                LEFT JOIN customers\n",
    "                    ON first_query.CustomerId = customers.CustomerId\n",
    "                ), \n",
    "                third_query AS (\n",
    "                SELECT SUM (\"Total Revenue\") AS \"Total Revenue per Employee\", SupportRepId\n",
    "                FROM second_query\n",
    "                GROUP BY SupportRepId\n",
    "                )\n",
    "                SELECT EmployeeId, LastName, FirstName, \"Total Revenue per Employee\"\n",
    "                FROM third_query\n",
    "                LEFT JOIN employees\n",
    "                    ON third_query.SupportRepId = employees.EmployeeId\n",
    "                ORDER BY \"Total Revenue by Employee\" DESC;''').fetchall()"
   ]
  },
  {
   "cell_type": "code",
   "execution_count": 44,
   "id": "961043e6",
   "metadata": {},
   "outputs": [
    {
     "data": {
      "text/plain": [
       "[(253, 'Battlestar Galactica (Classic), Season 1', 35.82, 24),\n",
       " (251, 'The Office, Season 3', 31.84, 25),\n",
       " (23, 'Minha Historia', 26.73, 34),\n",
       " (231, 'Lost, Season 2', 25.87, 24),\n",
       " (228, 'Heroes, Season 1', 25.87, 23),\n",
       " (141, 'Greatest Hits', 25.74, 57),\n",
       " (73, 'Unplugged', 24.75, 30),\n",
       " (227, 'Battlestar Galactica, Season 3', 23.88, 19),\n",
       " (229, 'Lost, Season 3', 21.89, 26),\n",
       " (224, 'Acústico', 21.78, 22)]"
      ]
     },
     "execution_count": 44,
     "metadata": {},
     "output_type": "execute_result"
    }
   ],
   "source": [
    "# 10. Do longer or shorter length albums tend to generate more revenue?\n",
    "cursor.execute ('''WITH first_query AS (\n",
    "                SELECT *\n",
    "                FROM invoice_items\n",
    "                LEFT JOIN tracks\n",
    "                    ON invoice_items.TrackId = tracks.TrackId\n",
    "                ), \n",
    "                second_query AS (\n",
    "                SELECT ROUND(SUM (UnitPrice),2) AS \"Revenue by Album\", AlbumId\n",
    "                FROM first_query\n",
    "                GROUP BY 2\n",
    "                ORDER BY 1 DESC\n",
    "                LIMIT 10\n",
    "                ), \n",
    "                third_query AS (\n",
    "                SELECT *\n",
    "                FROM second_query\n",
    "                LEFT JOIN albums\n",
    "                    ON second_query.AlbumId= albums.AlbumId\n",
    "                ), \n",
    "                revenue_by_album AS (\n",
    "                SELECT \"AlbumId\", \"Title\", \"ArtistId\", \"Revenue by Album\"\n",
    "                FROM third_query\n",
    "                ), \n",
    "                number_of_tracks AS (\n",
    "                SELECT COUNT (*) AS \"Number of Tracks\", AlbumId, Name\n",
    "                FROM tracks\n",
    "                GROUP BY AlbumId\n",
    "                ORDER BY 1 DESC\n",
    "                ), \n",
    "                join_table AS (\n",
    "                SELECT *\n",
    "                FROM revenue_by_album\n",
    "                LEFT JOIN number_of_tracks\n",
    "                    ON revenue_by_album.AlbumId = number_of_tracks.AlbumId\n",
    "                )\n",
    "                SELECT AlbumId, Title, \"Revenue by Album\", \"Number of Tracks\"\n",
    "                FROM join_table\n",
    "                ORDER BY 3 DESC;''').fetchall()"
   ]
  },
  {
   "cell_type": "code",
   "execution_count": null,
   "id": "14831522",
   "metadata": {},
   "outputs": [],
   "source": []
  },
  {
   "cell_type": "code",
   "execution_count": null,
   "id": "ca96287d",
   "metadata": {},
   "outputs": [],
   "source": []
  },
  {
   "cell_type": "code",
   "execution_count": null,
   "id": "624a7da7",
   "metadata": {},
   "outputs": [],
   "source": []
  },
  {
   "cell_type": "code",
   "execution_count": null,
   "id": "b1671085",
   "metadata": {},
   "outputs": [],
   "source": []
  }
 ],
 "metadata": {
  "kernelspec": {
   "display_name": "Python 3 (ipykernel)",
   "language": "python",
   "name": "python3"
  },
  "language_info": {
   "codemirror_mode": {
    "name": "ipython",
    "version": 3
   },
   "file_extension": ".py",
   "mimetype": "text/x-python",
   "name": "python",
   "nbconvert_exporter": "python",
   "pygments_lexer": "ipython3",
   "version": "3.9.7"
  }
 },
 "nbformat": 4,
 "nbformat_minor": 5
}
